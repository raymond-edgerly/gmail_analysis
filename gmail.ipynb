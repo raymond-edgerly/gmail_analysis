{
 "cells": [
  {
   "cell_type": "code",
   "execution_count": 1,
   "id": "10e93360-6df2-4f52-960e-279db9aba8e3",
   "metadata": {},
   "outputs": [],
   "source": [
    "import sys\n",
    "import pandas as pd\n",
    "import mailbox\n",
    "from collections import Counter\n",
    "from datetime import datetime\n",
    "\n",
    "# Visualization.\n",
    "import matplotlib.pyplot as plt\n",
    "import matplotlib.ticker as ticker\n",
    "import seaborn as sns"
   ]
  },
  {
   "cell_type": "markdown",
   "id": "429b3439-f684-4618-b3f9-1ec2471308fc",
   "metadata": {},
   "source": [
    "\n",
    "This notebook analyzes a gmail inbox via `mailbox` module. I find deleting emails in gmail cumbersome given a max of 100 per page.\n",
    "\n",
    "Exporting a gmail inbox via Google Takeout allows us to examine it for better understanding, with the goal of obtaining better control over our email.\n",
    "\n",
    "This allowed me to use Vivaldi's email client to delete more than 100 emails at a time, going from **~17,000 to ~7,000 in a day**.\n"
   ]
  },
  {
   "cell_type": "code",
   "execution_count": 2,
   "id": "bbaed239-d0c3-4597-ade8-ee0cb0bb8026",
   "metadata": {},
   "outputs": [
    {
     "name": "stdout",
     "output_type": "stream",
     "text": [
      "All messages: 7674\n"
     ]
    }
   ],
   "source": [
    "takeout = r'~/Downloads/takeout-20240319T205241Z-001' # File path to Google Takeout export.\n",
    "mail = mailbox.mbox(f'{takeout}/Takeout/Mail/All mail Including Spam and Trash.mbox')\n",
    "print(\"All messages:\", len(mail))"
   ]
  },
  {
   "cell_type": "markdown",
   "id": "e53e6dd4-86cb-4fcc-9bc2-faa57f83795d",
   "metadata": {},
   "source": [
    "\n",
    "You can download your gmail inbox's contents via [takeout.google.com](takeout.google.com).\n"
   ]
  },
  {
   "cell_type": "code",
   "execution_count": 3,
   "id": "97a96eff-487b-4348-96e2-bb3c211f6d11",
   "metadata": {},
   "outputs": [
    {
     "data": {
      "text/plain": [
       "{'Archived',\n",
       " 'Category\\r\\n Personal',\n",
       " 'Category Forums',\n",
       " 'Category Personal',\n",
       " 'Category Promotions',\n",
       " 'Category Purchases',\n",
       " 'Category Social',\n",
       " 'Category Travel',\n",
       " 'Category Updates',\n",
       " 'IMAP_$MailFlagBit0',\n",
       " 'IMAP_$MailFlagBit1',\n",
       " 'Important',\n",
       " 'Inbox',\n",
       " 'Opened',\n",
       " 'Sent',\n",
       " 'Spam',\n",
       " 'Starred',\n",
       " 'Trash',\n",
       " 'Unread'}"
      ]
     },
     "execution_count": 3,
     "metadata": {},
     "output_type": "execute_result"
    }
   ],
   "source": [
    "# Unique gmail labels:\n",
    "x_labels = []\n",
    "for email in mail:\n",
    "    if email['x-gmail-labels'] is not None:\n",
    "        labels = email['x-gmail-labels'].split(',')\n",
    "        x_labels.extend(labels)\n",
    "set(x_labels)"
   ]
  },
  {
   "cell_type": "code",
   "execution_count": 4,
   "id": "50efc181-60e0-43d5-9cc4-ee4d261a1a40",
   "metadata": {},
   "outputs": [
    {
     "name": "stdout",
     "output_type": "stream",
     "text": [
      "4029 emails in 'Inbox' from 797 unique senders\n"
     ]
    }
   ],
   "source": [
    "# Ignore 'Archived', 'Trash' as inbox categories - only emails that exist in 'Inbox'.\n",
    "senders = [str(x['from']) for x in mail if x['x-gmail-labels'] is not None and 'Inbox' in x['x-gmail-labels']]\n",
    "cnt = Counter()\n",
    "for sender in senders:\n",
    "    cnt[str(sender)] += 1\n",
    "print(len(senders), \"emails in 'Inbox' from\", len(set(senders)), \"unique senders\")"
   ]
  },
  {
   "cell_type": "markdown",
   "id": "baa0c7fa-7d14-4de2-8c32-17e5fbe25ca2",
   "metadata": {},
   "source": [
    "\n",
    "#### This is the 'from:\\<email_address\\>' list you should search when cleaning your inbox:\n"
   ]
  },
  {
   "cell_type": "code",
   "execution_count": 5,
   "id": "9ab0ae60-798b-4b74-b2c8-b69fa1c730fb",
   "metadata": {},
   "outputs": [],
   "source": [
    "top_n = 20\n",
    "# top_res = dict(cnt.most_common(top_n)) # Uncomment to see.\n",
    "# top_res"
   ]
  },
  {
   "cell_type": "markdown",
   "id": "d2b411e7-bded-49ac-b840-d64888d13c07",
   "metadata": {},
   "source": [
    "\n",
    "#### Visualization of the top 20 senders' emails.\n"
   ]
  },
  {
   "cell_type": "code",
   "execution_count": 6,
   "id": "78a44042-2fcb-4984-b117-2af6924764e4",
   "metadata": {},
   "outputs": [],
   "source": [
    "# sns.barplot(x=list(top_res.values()), y=list(top_res.keys()))"
   ]
  },
  {
   "cell_type": "markdown",
   "id": "c9c30121-e1cb-455b-8b96-88ab78826970",
   "metadata": {},
   "source": [
    "\n",
    "#### Visualization of email volume over time.\n"
   ]
  },
  {
   "cell_type": "code",
   "execution_count": 7,
   "id": "9d536c9a-07b0-46ee-9fe9-23bbec5d3adf",
   "metadata": {},
   "outputs": [
    {
     "name": "stdout",
     "output_type": "stream",
     "text": [
      "Tue, 19 Mar 2024 10:59:10 -0700\n"
     ]
    }
   ],
   "source": [
    "# Use 'Received' instead of 'Date' - 'Received' has consistent datetime formatting.\n",
    "print(mail[0]['Received'].split(';')[1].strip().rsplit(' ', 1)[0])"
   ]
  },
  {
   "cell_type": "code",
   "execution_count": 8,
   "id": "d0dec9fe-a9b7-472a-b20d-dbbb11f1d6d0",
   "metadata": {},
   "outputs": [
    {
     "name": "stderr",
     "output_type": "stream",
     "text": [
      "Unable to split Message-ID <CABhx6qA_iSrbksx9oUuGmm8AwNToW7R+++GfFfz=BVbPsCt7mw@mail.gmail.com> 'NoneType' object has no attribute 'split'\n"
     ]
    }
   ],
   "source": [
    "# datetime objects for all recevied emails.\n",
    "datetime_list = []\n",
    "for email in mail:\n",
    "    if email['x-gmail-labels'] is not None and 'Inbox' in email['x-gmail-labels']:\n",
    "        try:\n",
    "            date_str = email['Received'].split(';')[1].strip().rsplit(' ', 1)[0]\n",
    "        except (AttributeError) as e:\n",
    "            print(\"Unable to split Message-ID {} {}\".format(email['Message-ID'], str(e)), file=sys.stderr)\n",
    "            continue\n",
    "        dt_obj = datetime.strptime(date_str, '%a, %d %b %Y %H:%M:%S %z')\n",
    "        datetime_list.append(dt_obj)"
   ]
  },
  {
   "cell_type": "code",
   "execution_count": 9,
   "id": "f0ffdad9-29de-4067-b165-3c4f474adbd0",
   "metadata": {},
   "outputs": [],
   "source": [
    "# Investigate problem emails via 'Message-ID' field.\n",
    "# for email in mail:\n",
    "#     if '<CABhx6qA_iSrbksx9oUuGmm8AwNToW7R+++GfFfz=BVbPsCt7mw@mail.gmail.com>' in email['Message-ID']:\n",
    "#         print(email)"
   ]
  },
  {
   "cell_type": "code",
   "execution_count": 10,
   "id": "64bc098e-3468-4372-989a-a0bf6144c3ee",
   "metadata": {},
   "outputs": [],
   "source": [
    "df = pd.DataFrame(datetime_list, columns=['timestamp'], dtype='datetime64[ns, UTC]')\n",
    "df['value'] = 1\n",
    "df.set_index('timestamp', inplace=True)"
   ]
  },
  {
   "cell_type": "code",
   "execution_count": 11,
   "id": "e25e6d6a-6e70-4f9a-9a4f-49e1a521f47e",
   "metadata": {},
   "outputs": [
    {
     "data": {
      "text/html": [
       "<div>\n",
       "<style scoped>\n",
       "    .dataframe tbody tr th:only-of-type {\n",
       "        vertical-align: middle;\n",
       "    }\n",
       "\n",
       "    .dataframe tbody tr th {\n",
       "        vertical-align: top;\n",
       "    }\n",
       "\n",
       "    .dataframe thead th {\n",
       "        text-align: right;\n",
       "    }\n",
       "</style>\n",
       "<table border=\"1\" class=\"dataframe\">\n",
       "  <thead>\n",
       "    <tr style=\"text-align: right;\">\n",
       "      <th></th>\n",
       "      <th>value</th>\n",
       "      <th>year_month</th>\n",
       "      <th>label</th>\n",
       "    </tr>\n",
       "    <tr>\n",
       "      <th>timestamp</th>\n",
       "      <th></th>\n",
       "      <th></th>\n",
       "      <th></th>\n",
       "    </tr>\n",
       "  </thead>\n",
       "  <tbody>\n",
       "    <tr>\n",
       "      <th>2020-12-31 00:00:00+00:00</th>\n",
       "      <td>1</td>\n",
       "      <td>2020, 12</td>\n",
       "      <td></td>\n",
       "    </tr>\n",
       "    <tr>\n",
       "      <th>2021-01-31 00:00:00+00:00</th>\n",
       "      <td>123</td>\n",
       "      <td>2021, 01</td>\n",
       "      <td>2021</td>\n",
       "    </tr>\n",
       "    <tr>\n",
       "      <th>2021-02-28 00:00:00+00:00</th>\n",
       "      <td>110</td>\n",
       "      <td>2021, 02</td>\n",
       "      <td></td>\n",
       "    </tr>\n",
       "    <tr>\n",
       "      <th>2021-03-31 00:00:00+00:00</th>\n",
       "      <td>100</td>\n",
       "      <td>2021, 03</td>\n",
       "      <td></td>\n",
       "    </tr>\n",
       "    <tr>\n",
       "      <th>2021-04-30 00:00:00+00:00</th>\n",
       "      <td>101</td>\n",
       "      <td>2021, 04</td>\n",
       "      <td></td>\n",
       "    </tr>\n",
       "    <tr>\n",
       "      <th>2021-05-31 00:00:00+00:00</th>\n",
       "      <td>88</td>\n",
       "      <td>2021, 05</td>\n",
       "      <td></td>\n",
       "    </tr>\n",
       "    <tr>\n",
       "      <th>2021-06-30 00:00:00+00:00</th>\n",
       "      <td>80</td>\n",
       "      <td>2021, 06</td>\n",
       "      <td></td>\n",
       "    </tr>\n",
       "    <tr>\n",
       "      <th>2021-07-31 00:00:00+00:00</th>\n",
       "      <td>130</td>\n",
       "      <td>2021, 07</td>\n",
       "      <td></td>\n",
       "    </tr>\n",
       "    <tr>\n",
       "      <th>2021-08-31 00:00:00+00:00</th>\n",
       "      <td>121</td>\n",
       "      <td>2021, 08</td>\n",
       "      <td></td>\n",
       "    </tr>\n",
       "    <tr>\n",
       "      <th>2021-09-30 00:00:00+00:00</th>\n",
       "      <td>99</td>\n",
       "      <td>2021, 09</td>\n",
       "      <td></td>\n",
       "    </tr>\n",
       "    <tr>\n",
       "      <th>2021-10-31 00:00:00+00:00</th>\n",
       "      <td>77</td>\n",
       "      <td>2021, 10</td>\n",
       "      <td></td>\n",
       "    </tr>\n",
       "    <tr>\n",
       "      <th>2021-11-30 00:00:00+00:00</th>\n",
       "      <td>79</td>\n",
       "      <td>2021, 11</td>\n",
       "      <td></td>\n",
       "    </tr>\n",
       "    <tr>\n",
       "      <th>2021-12-31 00:00:00+00:00</th>\n",
       "      <td>100</td>\n",
       "      <td>2021, 12</td>\n",
       "      <td></td>\n",
       "    </tr>\n",
       "    <tr>\n",
       "      <th>2022-01-31 00:00:00+00:00</th>\n",
       "      <td>90</td>\n",
       "      <td>2022, 01</td>\n",
       "      <td>2022</td>\n",
       "    </tr>\n",
       "    <tr>\n",
       "      <th>2022-02-28 00:00:00+00:00</th>\n",
       "      <td>81</td>\n",
       "      <td>2022, 02</td>\n",
       "      <td></td>\n",
       "    </tr>\n",
       "    <tr>\n",
       "      <th>2022-03-31 00:00:00+00:00</th>\n",
       "      <td>89</td>\n",
       "      <td>2022, 03</td>\n",
       "      <td></td>\n",
       "    </tr>\n",
       "    <tr>\n",
       "      <th>2022-04-30 00:00:00+00:00</th>\n",
       "      <td>101</td>\n",
       "      <td>2022, 04</td>\n",
       "      <td></td>\n",
       "    </tr>\n",
       "    <tr>\n",
       "      <th>2022-05-31 00:00:00+00:00</th>\n",
       "      <td>74</td>\n",
       "      <td>2022, 05</td>\n",
       "      <td></td>\n",
       "    </tr>\n",
       "    <tr>\n",
       "      <th>2022-06-30 00:00:00+00:00</th>\n",
       "      <td>96</td>\n",
       "      <td>2022, 06</td>\n",
       "      <td></td>\n",
       "    </tr>\n",
       "    <tr>\n",
       "      <th>2022-07-31 00:00:00+00:00</th>\n",
       "      <td>65</td>\n",
       "      <td>2022, 07</td>\n",
       "      <td></td>\n",
       "    </tr>\n",
       "    <tr>\n",
       "      <th>2022-08-31 00:00:00+00:00</th>\n",
       "      <td>152</td>\n",
       "      <td>2022, 08</td>\n",
       "      <td></td>\n",
       "    </tr>\n",
       "    <tr>\n",
       "      <th>2022-09-30 00:00:00+00:00</th>\n",
       "      <td>111</td>\n",
       "      <td>2022, 09</td>\n",
       "      <td></td>\n",
       "    </tr>\n",
       "    <tr>\n",
       "      <th>2022-10-31 00:00:00+00:00</th>\n",
       "      <td>139</td>\n",
       "      <td>2022, 10</td>\n",
       "      <td></td>\n",
       "    </tr>\n",
       "    <tr>\n",
       "      <th>2022-11-30 00:00:00+00:00</th>\n",
       "      <td>96</td>\n",
       "      <td>2022, 11</td>\n",
       "      <td></td>\n",
       "    </tr>\n",
       "    <tr>\n",
       "      <th>2022-12-31 00:00:00+00:00</th>\n",
       "      <td>160</td>\n",
       "      <td>2022, 12</td>\n",
       "      <td></td>\n",
       "    </tr>\n",
       "    <tr>\n",
       "      <th>2023-01-31 00:00:00+00:00</th>\n",
       "      <td>92</td>\n",
       "      <td>2023, 01</td>\n",
       "      <td>2023</td>\n",
       "    </tr>\n",
       "    <tr>\n",
       "      <th>2023-02-28 00:00:00+00:00</th>\n",
       "      <td>66</td>\n",
       "      <td>2023, 02</td>\n",
       "      <td></td>\n",
       "    </tr>\n",
       "    <tr>\n",
       "      <th>2023-03-31 00:00:00+00:00</th>\n",
       "      <td>107</td>\n",
       "      <td>2023, 03</td>\n",
       "      <td></td>\n",
       "    </tr>\n",
       "    <tr>\n",
       "      <th>2023-04-30 00:00:00+00:00</th>\n",
       "      <td>104</td>\n",
       "      <td>2023, 04</td>\n",
       "      <td></td>\n",
       "    </tr>\n",
       "    <tr>\n",
       "      <th>2023-05-31 00:00:00+00:00</th>\n",
       "      <td>125</td>\n",
       "      <td>2023, 05</td>\n",
       "      <td></td>\n",
       "    </tr>\n",
       "    <tr>\n",
       "      <th>2023-06-30 00:00:00+00:00</th>\n",
       "      <td>85</td>\n",
       "      <td>2023, 06</td>\n",
       "      <td></td>\n",
       "    </tr>\n",
       "    <tr>\n",
       "      <th>2023-07-31 00:00:00+00:00</th>\n",
       "      <td>81</td>\n",
       "      <td>2023, 07</td>\n",
       "      <td></td>\n",
       "    </tr>\n",
       "    <tr>\n",
       "      <th>2023-08-31 00:00:00+00:00</th>\n",
       "      <td>103</td>\n",
       "      <td>2023, 08</td>\n",
       "      <td></td>\n",
       "    </tr>\n",
       "    <tr>\n",
       "      <th>2023-09-30 00:00:00+00:00</th>\n",
       "      <td>93</td>\n",
       "      <td>2023, 09</td>\n",
       "      <td></td>\n",
       "    </tr>\n",
       "    <tr>\n",
       "      <th>2023-10-31 00:00:00+00:00</th>\n",
       "      <td>111</td>\n",
       "      <td>2023, 10</td>\n",
       "      <td></td>\n",
       "    </tr>\n",
       "    <tr>\n",
       "      <th>2023-11-30 00:00:00+00:00</th>\n",
       "      <td>135</td>\n",
       "      <td>2023, 11</td>\n",
       "      <td></td>\n",
       "    </tr>\n",
       "    <tr>\n",
       "      <th>2023-12-31 00:00:00+00:00</th>\n",
       "      <td>99</td>\n",
       "      <td>2023, 12</td>\n",
       "      <td></td>\n",
       "    </tr>\n",
       "    <tr>\n",
       "      <th>2024-01-31 00:00:00+00:00</th>\n",
       "      <td>112</td>\n",
       "      <td>2024, 01</td>\n",
       "      <td>2024</td>\n",
       "    </tr>\n",
       "    <tr>\n",
       "      <th>2024-02-29 00:00:00+00:00</th>\n",
       "      <td>99</td>\n",
       "      <td>2024, 02</td>\n",
       "      <td></td>\n",
       "    </tr>\n",
       "    <tr>\n",
       "      <th>2024-03-31 00:00:00+00:00</th>\n",
       "      <td>153</td>\n",
       "      <td>2024, 03</td>\n",
       "      <td></td>\n",
       "    </tr>\n",
       "  </tbody>\n",
       "</table>\n",
       "</div>"
      ],
      "text/plain": [
       "                           value year_month label\n",
       "timestamp                                        \n",
       "2020-12-31 00:00:00+00:00      1   2020, 12      \n",
       "2021-01-31 00:00:00+00:00    123   2021, 01  2021\n",
       "2021-02-28 00:00:00+00:00    110   2021, 02      \n",
       "2021-03-31 00:00:00+00:00    100   2021, 03      \n",
       "2021-04-30 00:00:00+00:00    101   2021, 04      \n",
       "2021-05-31 00:00:00+00:00     88   2021, 05      \n",
       "2021-06-30 00:00:00+00:00     80   2021, 06      \n",
       "2021-07-31 00:00:00+00:00    130   2021, 07      \n",
       "2021-08-31 00:00:00+00:00    121   2021, 08      \n",
       "2021-09-30 00:00:00+00:00     99   2021, 09      \n",
       "2021-10-31 00:00:00+00:00     77   2021, 10      \n",
       "2021-11-30 00:00:00+00:00     79   2021, 11      \n",
       "2021-12-31 00:00:00+00:00    100   2021, 12      \n",
       "2022-01-31 00:00:00+00:00     90   2022, 01  2022\n",
       "2022-02-28 00:00:00+00:00     81   2022, 02      \n",
       "2022-03-31 00:00:00+00:00     89   2022, 03      \n",
       "2022-04-30 00:00:00+00:00    101   2022, 04      \n",
       "2022-05-31 00:00:00+00:00     74   2022, 05      \n",
       "2022-06-30 00:00:00+00:00     96   2022, 06      \n",
       "2022-07-31 00:00:00+00:00     65   2022, 07      \n",
       "2022-08-31 00:00:00+00:00    152   2022, 08      \n",
       "2022-09-30 00:00:00+00:00    111   2022, 09      \n",
       "2022-10-31 00:00:00+00:00    139   2022, 10      \n",
       "2022-11-30 00:00:00+00:00     96   2022, 11      \n",
       "2022-12-31 00:00:00+00:00    160   2022, 12      \n",
       "2023-01-31 00:00:00+00:00     92   2023, 01  2023\n",
       "2023-02-28 00:00:00+00:00     66   2023, 02      \n",
       "2023-03-31 00:00:00+00:00    107   2023, 03      \n",
       "2023-04-30 00:00:00+00:00    104   2023, 04      \n",
       "2023-05-31 00:00:00+00:00    125   2023, 05      \n",
       "2023-06-30 00:00:00+00:00     85   2023, 06      \n",
       "2023-07-31 00:00:00+00:00     81   2023, 07      \n",
       "2023-08-31 00:00:00+00:00    103   2023, 08      \n",
       "2023-09-30 00:00:00+00:00     93   2023, 09      \n",
       "2023-10-31 00:00:00+00:00    111   2023, 10      \n",
       "2023-11-30 00:00:00+00:00    135   2023, 11      \n",
       "2023-12-31 00:00:00+00:00     99   2023, 12      \n",
       "2024-01-31 00:00:00+00:00    112   2024, 01  2024\n",
       "2024-02-29 00:00:00+00:00     99   2024, 02      \n",
       "2024-03-31 00:00:00+00:00    153   2024, 03      "
      ]
     },
     "execution_count": 11,
     "metadata": {},
     "output_type": "execute_result"
    }
   ],
   "source": [
    "monthly_data = df.resample('M').sum()\n",
    "monthly_data['year_month'] = monthly_data.index.strftime('%Y, %m')\n",
    "monthly_data['label'] = monthly_data['year_month'].apply(lambda x: x[:4] if x[-2:] == '01' else '')\n",
    "monthly_data"
   ]
  },
  {
   "cell_type": "code",
   "execution_count": 12,
   "id": "ee600cb5-1148-43c6-8bcd-18bf32019e45",
   "metadata": {},
   "outputs": [
    {
     "data": {
      "text/plain": [
       "Text(0, 0.5, 'Number of Emails (Each bar = 1 month)')"
      ]
     },
     "execution_count": 12,
     "metadata": {},
     "output_type": "execute_result"
    },
    {
     "data": {
      "image/png": "[encoded data removed]",
      "text/plain": [
       "<Figure size 1500x600 with 1 Axes>"
      ]
     },
     "metadata": {},
     "output_type": "display_data"
    }
   ],
   "source": [
    "monthly_data_reset = monthly_data.reset_index()\n",
    "plt.figure(figsize=(15, 6))\n",
    "barplot = sns.barplot(x='year_month', y='value', data=monthly_data_reset, palette=\"Blues_d\")\n",
    "barplot.set_xticklabels(monthly_data_reset['label'], rotation=90)\n",
    "plt.xlabel('Year')\n",
    "plt.ylabel('Number of Emails (Each bar = 1 month)')"
   ]
  }
 ],
 "metadata": {
  "kernelspec": {
   "display_name": "Python 3 (ipykernel)",
   "language": "python",
   "name": "python3"
  },
  "language_info": {
   "codemirror_mode": {
    "name": "ipython",
    "version": 3
   },
   "file_extension": ".py",
   "mimetype": "text/x-python",
   "name": "python",
   "nbconvert_exporter": "python",
   "pygments_lexer": "ipython3",
   "version": "3.9.18"
  }
 },
 "nbformat": 4,
 "nbformat_minor": 5
}
